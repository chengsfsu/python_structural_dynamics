{
 "metadata": {
  "language_info": {
   "codemirror_mode": {
    "name": "ipython",
    "version": 3
   },
   "file_extension": ".py",
   "mimetype": "text/x-python",
   "name": "python",
   "nbconvert_exporter": "python",
   "pygments_lexer": "ipython3",
   "version": "3.8.5-final"
  },
  "orig_nbformat": 2,
  "kernelspec": {
   "name": "python3",
   "display_name": "Python 3",
   "language": "python"
  }
 },
 "nbformat": 4,
 "nbformat_minor": 2,
 "cells": [
  {
   "source": [
    "# Work example 1: Mass - spring - damper 1GDL\n",
    "\n",
    "![title](img/image_1.png)"
   ],
   "cell_type": "markdown",
   "metadata": {}
  },
  {
   "cell_type": "code",
   "execution_count": 39,
   "metadata": {},
   "outputs": [],
   "source": [
    "# Dependencies\n",
    "import numpy as np  # Tools for math and working with array\n",
    "\n",
    "# Constants\n",
    "m = 150         # Mass [kg]\n",
    "k = 12 * 10**3  # Stiffness [N/m]\n",
    "u1 = 10         # Peak 1 [mm]\n",
    "u2 = 7.3        # Peak 2 [mm]"
   ]
  },
  {
   "source": [
    "### 1. Natural frequency, $\\omega_n$ and $f_n$\n",
    "\n",
    "\\begin{equation}\n",
    "\\omega_n = \\sqrt{\\frac{k}{m}}\n",
    "\\end{equation}\n",
    "\n",
    "\\begin{equation}\n",
    "f_n = \\frac{\\omega_n}{2\\pi}\n",
    "\\end{equation}\n"
   ],
   "cell_type": "markdown",
   "metadata": {}
  },
  {
   "cell_type": "code",
   "execution_count": 40,
   "metadata": {},
   "outputs": [
    {
     "output_type": "stream",
     "name": "stdout",
     "text": [
      "Natural frequency:  8.944 rad/s\nFrequency:  1.424 Hz\n"
     ]
    }
   ],
   "source": [
    "# Natural frequency\n",
    "omega_n = np.sqrt(k / m)\n",
    "f_n = omega_n / (2 * np.pi)\n",
    "\n",
    "print(f\"Natural frequency: {omega_n: 0.3f} rad/s\")\n",
    "print(f\"Frequency: {f_n: 0.3f} Hz\")"
   ]
  },
  {
   "source": [
    "### 2. The oscillation period, $T$\n",
    "\n",
    "\\begin{equation}\n",
    "T = \\frac{1}{f_n}\n",
    "\\end{equation}"
   ],
   "cell_type": "markdown",
   "metadata": {}
  },
  {
   "cell_type": "code",
   "execution_count": 41,
   "metadata": {},
   "outputs": [
    {
     "output_type": "stream",
     "name": "stdout",
     "text": [
      "The oscillation period:  0.702 s\n"
     ]
    }
   ],
   "source": [
    "# The oscillation period\n",
    "T = 1 / f_n\n",
    "print(f\"The oscillation period: {T: 0.3f} s\")"
   ]
  },
  {
   "source": [
    "### 3. The logaritmic decrement, $\\delta$\n",
    "\n",
    "\\begin{equation}\n",
    "\\delta = \\ln{\\frac{U_n}{U_{n+1}}}\n",
    "\\end{equation}"
   ],
   "cell_type": "markdown",
   "metadata": {}
  },
  {
   "cell_type": "code",
   "execution_count": 42,
   "metadata": {},
   "outputs": [
    {
     "output_type": "stream",
     "name": "stdout",
     "text": [
      "The logaritmic decrement:  0.315\n"
     ]
    }
   ],
   "source": [
    "# The logaritmic decrement\n",
    "delta = np.log(u1 / u2)\n",
    "print(f\"The logaritmic decrement: {delta: 0.3f}\")"
   ]
  },
  {
   "source": [
    "### 4. The damping ratio, $\\xi$\n",
    "\n",
    "\\begin{equation}\n",
    "\\xi \\approx \\frac{\\delta}{2\\pi}\n",
    "\\end{equation}"
   ],
   "cell_type": "markdown",
   "metadata": {}
  },
  {
   "cell_type": "code",
   "execution_count": 43,
   "metadata": {},
   "outputs": [
    {
     "output_type": "stream",
     "name": "stdout",
     "text": [
      "The damping ration:  0.050\n"
     ]
    }
   ],
   "source": [
    "# The damping ration\n",
    "xi = delta / (2 * np.pi)\n",
    "print(f\"The damping ration: {xi: 0.3f}\")"
   ]
  },
  {
   "source": [
    "### 5. The damping coefficient, $c$\n",
    "\n",
    "\\begin{equation}\n",
    "c = 2\\xi m \\omega_n\n",
    "\\end{equation}"
   ],
   "cell_type": "markdown",
   "metadata": {}
  },
  {
   "cell_type": "code",
   "execution_count": 44,
   "metadata": {},
   "outputs": [
    {
     "output_type": "stream",
     "name": "stdout",
     "text": [
      "The damping coeficcient:  8429.778 N·s/m\n"
     ]
    }
   ],
   "source": [
    "# The damping coefficient\n",
    "c = 2 * np.pi * m * omega_n\n",
    "print(f\"The damping coeficcient: {c: 0.3f} N·s/m\")"
   ]
  },
  {
   "source": [
    "### 6. The damped natural frequency, $\\omega_d$\n",
    "\n",
    "\\begin{equation}\n",
    "\\omega_d = \\omega_n \\sqrt{1-\\xi^2}\n",
    "\\end{equation}"
   ],
   "cell_type": "markdown",
   "metadata": {}
  },
  {
   "cell_type": "code",
   "execution_count": 46,
   "metadata": {},
   "outputs": [
    {
     "output_type": "stream",
     "name": "stdout",
     "text": [
      "The damped natural frequency:  8.933 rad/s\n"
     ]
    }
   ],
   "source": [
    "# The damped natural frequency\n",
    "omega_d = omega_n * np.sqrt(1 - xi**2)\n",
    "print(f\"The damped natural frequency: {omega_d: 0.3f} rad/s\")"
   ]
  }
 ]
}